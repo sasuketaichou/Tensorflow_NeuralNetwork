{
 "cells": [
  {
   "cell_type": "code",
   "execution_count": 1,
   "metadata": {},
   "outputs": [],
   "source": [
    "import tensorflow as tf\n",
    "sess = tf.Session()\n",
    "\n",
    "a = tf.Variable(tf.constant(16.))\n",
    "x_val = 5.\n",
    "x_data = tf.placeholder(dtype=tf.float32)\n",
    "multiplication = tf.multiply(a,x_data)\n",
    "\n",
    "loss = tf.square(tf.subtract(multiplication,50.))"
   ]
  },
  {
   "cell_type": "code",
   "execution_count": 2,
   "metadata": {},
   "outputs": [],
   "source": [
    "init = tf.global_variables_initializer()\n",
    "sess.run(init)\n",
    "my_opt = tf.train.GradientDescentOptimizer(0.01)\n",
    "train_step = my_opt.minimize(loss)"
   ]
  },
  {
   "cell_type": "code",
   "execution_count": 3,
   "metadata": {},
   "outputs": [
    {
     "name": "stdout",
     "output_type": "stream",
     "text": [
      "Optimizing a Multiplication Gate Output to 50.\n",
      "13.0 * 5.0 = 65.0\n",
      "11.5 * 5.0 = 57.5\n",
      "10.75 * 5.0 = 53.75\n",
      "10.375 * 5.0 = 51.875\n",
      "10.1875 * 5.0 = 50.9375\n",
      "10.0938 * 5.0 = 50.46875\n",
      "10.0469 * 5.0 = 50.234375\n",
      "10.0234 * 5.0 = 50.1171875\n",
      "10.0117 * 5.0 = 50.05859375\n",
      "10.0059 * 5.0 = 50.029296875\n"
     ]
    }
   ],
   "source": [
    "print('Optimizing a Multiplication Gate Output to 50.')\n",
    "\n",
    "for i in range(10):\n",
    "    sess.run(train_step, feed_dict={x_data: x_val})\n",
    "    print(str(sess.run(a)) + ' * ' + str(x_val) + ' = ' + str(a_val*x_val))"
   ]
  },
  {
   "cell_type": "code",
   "execution_count": null,
   "metadata": {},
   "outputs": [],
   "source": []
  }
 ],
 "metadata": {
  "kernelspec": {
   "display_name": "Python 3",
   "language": "python",
   "name": "python3"
  },
  "language_info": {
   "codemirror_mode": {
    "name": "ipython",
    "version": 3
   },
   "file_extension": ".py",
   "mimetype": "text/x-python",
   "name": "python",
   "nbconvert_exporter": "python",
   "pygments_lexer": "ipython3",
   "version": "3.5.2"
  }
 },
 "nbformat": 4,
 "nbformat_minor": 2
}
