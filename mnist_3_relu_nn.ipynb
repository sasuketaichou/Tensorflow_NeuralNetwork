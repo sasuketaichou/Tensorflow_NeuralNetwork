{
 "cells": [
  {
   "cell_type": "code",
   "execution_count": 1,
   "metadata": {},
   "outputs": [
    {
     "name": "stdout",
     "output_type": "stream",
     "text": [
      "Extracting /data\\train-images-idx3-ubyte.gz\n",
      "Extracting /data\\train-labels-idx1-ubyte.gz\n",
      "Extracting /data\\t10k-images-idx3-ubyte.gz\n",
      "Extracting /data\\t10k-labels-idx1-ubyte.gz\n"
     ]
    }
   ],
   "source": [
    "from tensorflow.examples.tutorials.mnist import input_data\n",
    "import tensorflow as tf\n",
    "\n",
    "mnist = input_data.read_data_sets('/data', one_hot = True)"
   ]
  },
  {
   "cell_type": "code",
   "execution_count": 2,
   "metadata": {},
   "outputs": [],
   "source": [
    "#parameter\n",
    "batch_size = 100\n",
    "\n",
    "#network parameter\n",
    "n_hidden_1 = 500\n",
    "n_hidden_2 = 500\n",
    "n_hidden_3 = 500\n",
    "\n",
    "num_input = 784\n",
    "num_output = 10"
   ]
  },
  {
   "cell_type": "code",
   "execution_count": 3,
   "metadata": {},
   "outputs": [],
   "source": [
    "X = tf.placeholder(tf.float32,[None,num_input])\n",
    "Y = tf.placeholder(tf.float32,[None,num_output])"
   ]
  },
  {
   "cell_type": "code",
   "execution_count": 4,
   "metadata": {},
   "outputs": [],
   "source": [
    "weights = {\n",
    "    'w1':tf.Variable(tf.random_normal([num_input,n_hidden_1])),\n",
    "    'w2':tf.Variable(tf.random_normal([n_hidden_1,n_hidden_2])),\n",
    "    'w3':tf.Variable(tf.random_normal([n_hidden_2,n_hidden_3])),\n",
    "    'out':tf.Variable(tf.random_normal([n_hidden_3,num_output]))\n",
    "}\n",
    "bias = {\n",
    "    'b1':tf.Variable(tf.random_normal([n_hidden_1])),\n",
    "    'b2':tf.Variable(tf.random_normal([n_hidden_2])),\n",
    "    'b3':tf.Variable(tf.random_normal([n_hidden_3])),\n",
    "    'out':tf.Variable(tf.random_normal([num_output]))\n",
    "}"
   ]
  },
  {
   "cell_type": "code",
   "execution_count": 5,
   "metadata": {},
   "outputs": [],
   "source": [
    "def neural_network_model(x):\n",
    "    \n",
    "    layer1 = tf.add(tf.matmul(x,weights['w1']),bias['b1'])\n",
    "    l1 = tf.nn.relu(layer1)\n",
    "    \n",
    "    layer2= tf.add(tf.matmul(l1,weights['w2']),bias['b2'])\n",
    "    l2 = tf.nn.relu(layer2)\n",
    "    \n",
    "    layer3 = tf.add(tf.matmul(l2,weights['w3']),bias['b3'])\n",
    "    l3 = tf.nn.relu(layer3)   \n",
    "    \n",
    "    return tf.add(tf.matmul(l3,weights['out']),bias['out'])"
   ]
  },
  {
   "cell_type": "code",
   "execution_count": 6,
   "metadata": {},
   "outputs": [],
   "source": [
    "logits = neural_network_model(X)\n",
    "\n",
    "cost = tf.reduce_mean(tf.nn.softmax_cross_entropy_with_logits(logits=logits,labels=Y))\n",
    "optimizer = tf.train.AdamOptimizer().minimize(cost)\n",
    "\n",
    "correct_pred = tf.equal(tf.argmax(logits,1),tf.argmax(Y,1))\n",
    "accuracy = tf.reduce_mean(tf.cast(correct_pred, tf.float32))\n",
    "\n",
    "init = tf.global_variables_initializer()"
   ]
  },
  {
   "cell_type": "code",
   "execution_count": 7,
   "metadata": {},
   "outputs": [
    {
     "name": "stdout",
     "output_type": "stream",
     "text": [
      "Epoch 0 completed out of 10 loss: 1624645.32556\n",
      "Epoch 1 completed out of 10 loss: 372087.466675\n",
      "Epoch 2 completed out of 10 loss: 207140.222513\n",
      "Epoch 3 completed out of 10 loss: 121381.931575\n",
      "Epoch 4 completed out of 10 loss: 73602.1601998\n",
      "Epoch 5 completed out of 10 loss: 47395.0665625\n",
      "Epoch 6 completed out of 10 loss: 31434.4613626\n",
      "Epoch 7 completed out of 10 loss: 23884.975103\n",
      "Epoch 8 completed out of 10 loss: 19796.1354399\n",
      "Epoch 9 completed out of 10 loss: 16882.5647836\n",
      "Accuracy: 0.9508\n"
     ]
    }
   ],
   "source": [
    "hm_epochs = 10\n",
    "with tf.Session() as sess:\n",
    "    sess.run(init)\n",
    "\n",
    "    for epoch in range(hm_epochs):\n",
    "        epoch_loss = 0\n",
    "        for _ in range(int(mnist.train.num_examples/batch_size)):\n",
    "            epoch_x, epoch_y = mnist.train.next_batch(batch_size)\n",
    "            _, c = sess.run([optimizer, cost], feed_dict={X: epoch_x, Y: epoch_y})\n",
    "            epoch_loss += c\n",
    "\n",
    "        print('Epoch', epoch, 'completed out of',hm_epochs,'loss:',epoch_loss)\n",
    "    \n",
    "    print('Accuracy:',accuracy.eval({X:mnist.test.images, Y:mnist.test.labels}))"
   ]
  }
 ],
 "metadata": {
  "kernelspec": {
   "display_name": "Python 3",
   "language": "python",
   "name": "python3"
  },
  "language_info": {
   "codemirror_mode": {
    "name": "ipython",
    "version": 3
   },
   "file_extension": ".py",
   "mimetype": "text/x-python",
   "name": "python",
   "nbconvert_exporter": "python",
   "pygments_lexer": "ipython3",
   "version": "3.5.2"
  }
 },
 "nbformat": 4,
 "nbformat_minor": 2
}
