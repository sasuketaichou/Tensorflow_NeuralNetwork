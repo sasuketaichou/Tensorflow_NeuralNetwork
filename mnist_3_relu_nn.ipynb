{
 "cells": [
  {
   "cell_type": "code",
   "execution_count": null,
   "metadata": {},
   "outputs": [],
   "source": [
    "from tensorflow.examples.tutorials.mnist import input_data\n",
    "import tensorflow as tf\n",
    "\n",
    "mnist = input_data.read_data_sets('/data', one_hot = True)"
   ]
  },
  {
   "cell_type": "code",
   "execution_count": null,
   "metadata": {},
   "outputs": [],
   "source": [
    "#parameter\n",
    "batch_size = 100\n",
    "\n",
    "#network parameter\n",
    "n_hidden_1 = 500\n",
    "n_hidden_2 = 500\n",
    "n_hidden_3 = 500\n",
    "\n",
    "num_input = 728\n",
    "num_output = 10"
   ]
  },
  {
   "cell_type": "code",
   "execution_count": null,
   "metadata": {},
   "outputs": [],
   "source": [
    "X = tf.placeholder(tf.float32,[None,num_input])\n",
    "Y = tf.placeholder(tf.float32,[None,num_output])"
   ]
  },
  {
   "cell_type": "code",
   "execution_count": null,
   "metadata": {},
   "outputs": [],
   "source": [
    "weights = {\n",
    "    'w1':tf.Variable(tf.random_normal([num_input,n_hidden_1])),\n",
    "    'w2':tf.Variable(tf.random_normal([n_hidden_1,n_hidden_2])),\n",
    "    'w3':tf.Variable(tf.random_normal([n_hidden_2,n_hidden_3])),\n",
    "    'out':tf.Variable(tf.random_normal([n_hidden_3,num_output]))\n",
    "}\n",
    "bias = {\n",
    "    'b1':tf.Variable(tf.random_normal([n_hidden_1])),\n",
    "    'b2':tf.Variable(tf.random_normal([n_hidden_2])),\n",
    "    'b3':tf.Variable(tf.random_normal([n_hidden_3])),\n",
    "    'out':tf.Variable(tf.random_normal([num_output]))\n",
    "}"
   ]
  },
  {
   "cell_type": "code",
   "execution_count": null,
   "metadata": {},
   "outputs": [],
   "source": [
    "def neural_network_model(x):\n",
    "    \n",
    "    layer1 = tf.add(tf.matmul(x,weights['w1']),bias['b1'])\n",
    "    layer2= tf.add(tf.matmul(weights['w1'],weights['w2']),bias['b2'])\n",
    "    layer3 = tf.add(tf.matmul(weights['w2'],weights['w3']),bias['b3'])\n",
    "    \n",
    "    #relu each layer\n",
    "    l1 = tf.nn.relu(layer1)\n",
    "    l2 = tf.nn.relu(layer2)\n",
    "    l3 = tf.nn.relu(layer3)\n",
    "    \n",
    "    return tf.matmul(l3,tf.add(weights['out'],bias['out']))"
   ]
  },
  {
   "cell_type": "code",
   "execution_count": null,
   "metadata": {},
   "outputs": [],
   "source": []
  }
 ],
 "metadata": {
  "kernelspec": {
   "display_name": "Python 3",
   "language": "python",
   "name": "python3"
  },
  "language_info": {
   "codemirror_mode": {
    "name": "ipython",
    "version": 3
   },
   "file_extension": ".py",
   "mimetype": "text/x-python",
   "name": "python",
   "nbconvert_exporter": "python",
   "pygments_lexer": "ipython3",
   "version": "3.5.2"
  }
 },
 "nbformat": 4,
 "nbformat_minor": 2
}
